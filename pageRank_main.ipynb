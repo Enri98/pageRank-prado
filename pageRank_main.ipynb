{
  "nbformat": 4,
  "nbformat_minor": 0,
  "metadata": {
    "colab": {
      "provenance": [],
      "machine_shape": "hm",
      "gpuType": "A100",
      "authorship_tag": "ABX9TyNnKPrZCLI1BdTvEgJtWS3h",
      "include_colab_link": true
    },
    "kernelspec": {
      "name": "python3",
      "display_name": "Python 3"
    },
    "language_info": {
      "name": "python"
    },
    "accelerator": "GPU"
  },
  "cells": [
    {
      "cell_type": "markdown",
      "metadata": {
        "id": "view-in-github",
        "colab_type": "text"
      },
      "source": [
        "<a href=\"https://colab.research.google.com/github/Enri98/pageRank-prado/blob/main/pageRank_main.ipynb\" target=\"_parent\"><img src=\"https://colab.research.google.com/assets/colab-badge.svg\" alt=\"Open In Colab\"/></a>"
      ]
    },
    {
      "cell_type": "markdown",
      "source": [
        "# **Project 3: Link analysis on Prado Dataset**\n",
        "In this project, two variations of the PageRank algorithm, unweighted and weighted edges, were applied to a dataset of paintings from the Prado Museum. The goal was to rank the paintings based on their relationships, where connections were defined by shared tags between artworks. Each painting was considered as a node in a graph, and edges between these were formed based on the shared tags. The unweighted PageRank algorithm treated all connections equally, while the weighted PageRank variation assigned more importance to links with more common tags, providing a nuanced ranking system.\n",
        "\n",
        "The implementation utilized PySpark’s distributed computing capabilities to efficiently handle the large dataset and create scalable solutions.\n",
        "\n",
        "The results showed that both algorithms ranked the same painting “Retrato mortuorio del periodista Pedro Avial Taracena” by José Nin y Tudó at the top, although the remaining rankings varied between the two approaches; interestingly, the weighted PageRank algorithm favored several paintings by Francisco de Goya.\n"
      ],
      "metadata": {
        "id": "DET6XDZG-3NR"
      }
    },
    {
      "cell_type": "markdown",
      "source": [
        "## Upload dataset"
      ],
      "metadata": {
        "id": "vx91Stkg_AeQ"
      }
    },
    {
      "cell_type": "markdown",
      "source": [
        "Install pyspark and import libraries"
      ],
      "metadata": {
        "id": "O-4xqmXtBHB1"
      }
    },
    {
      "cell_type": "code",
      "source": [
        "!pip install pyspark"
      ],
      "metadata": {
        "colab": {
          "base_uri": "https://localhost:8080/"
        },
        "id": "B8-sxkmDBL03",
        "outputId": "ebfe74e2-3578-4b33-d4eb-0f10b9651592"
      },
      "execution_count": 1,
      "outputs": [
        {
          "output_type": "stream",
          "name": "stdout",
          "text": [
            "Collecting pyspark\n",
            "  Downloading pyspark-3.5.2.tar.gz (317.3 MB)\n",
            "\u001b[2K     \u001b[90m━━━━━━━━━━━━━━━━━━━━━━━━━━━━━━━━━━━━━━━━\u001b[0m \u001b[32m317.3/317.3 MB\u001b[0m \u001b[31m4.3 MB/s\u001b[0m eta \u001b[36m0:00:00\u001b[0m\n",
            "\u001b[?25h  Preparing metadata (setup.py) ... \u001b[?25l\u001b[?25hdone\n",
            "Requirement already satisfied: py4j==0.10.9.7 in /usr/local/lib/python3.10/dist-packages (from pyspark) (0.10.9.7)\n",
            "Building wheels for collected packages: pyspark\n",
            "  Building wheel for pyspark (setup.py) ... \u001b[?25l\u001b[?25hdone\n",
            "  Created wheel for pyspark: filename=pyspark-3.5.2-py2.py3-none-any.whl size=317812365 sha256=254d39117c0683cae882a4f10fc44752db3db420b224441b8128b074210e6cc6\n",
            "  Stored in directory: /root/.cache/pip/wheels/34/34/bd/03944534c44b677cd5859f248090daa9fb27b3c8f8e5f49574\n",
            "Successfully built pyspark\n",
            "Installing collected packages: pyspark\n",
            "Successfully installed pyspark-3.5.2\n"
          ]
        }
      ]
    },
    {
      "cell_type": "code",
      "source": [
        "import pandas as pd\n",
        "import polars as pl\n",
        "import numpy as np\n",
        "import matplotlib.pyplot as plt\n",
        "import itertools\n",
        "import os\n",
        "from collections import Counter\n",
        "\n",
        "from pyspark.sql import SparkSession, Window, Row\n",
        "from pyspark.sql.functions import *\n",
        "from pyspark.sql.types import *"
      ],
      "metadata": {
        "id": "Wl8qYk00A2Hu"
      },
      "execution_count": 2,
      "outputs": []
    },
    {
      "cell_type": "code",
      "execution_count": 3,
      "metadata": {
        "id": "YpHN0iqw-yiH",
        "colab": {
          "base_uri": "https://localhost:8080/"
        },
        "outputId": "80483342-46ff-4d05-cc62-1bfa9072fc3e"
      },
      "outputs": [
        {
          "output_type": "stream",
          "name": "stdout",
          "text": [
            "Dataset URL: https://www.kaggle.com/datasets/maparla/prado-museum-pictures\n",
            "License(s): MIT\n",
            "Downloading prado-museum-pictures.zip to /content\n",
            "100% 24.9G/24.9G [04:44<00:00, 139MB/s]\n",
            "100% 24.9G/24.9G [04:44<00:00, 94.1MB/s]\n"
          ]
        }
      ],
      "source": [
        "os.environ['KAGGLE_USERNAME'] = \"xxx\"\n",
        "os.environ['KAGGLE_KEY'] = \"xxx\"\n",
        "!kaggle datasets download -d maparla/prado-museum-pictures"
      ]
    },
    {
      "cell_type": "code",
      "source": [
        "!unzip prado-museum-pictures.zip -x \"*.jpg\" # don't unzip the jpg pictures"
      ],
      "metadata": {
        "id": "vThUOHeu_Esz",
        "colab": {
          "base_uri": "https://localhost:8080/"
        },
        "outputId": "7f6addfa-e836-44a4-da36-32bc8f874fbb"
      },
      "execution_count": 4,
      "outputs": [
        {
          "output_type": "stream",
          "name": "stdout",
          "text": [
            "Archive:  prado-museum-pictures.zip\n",
            "  inflating: prado.csv               \n"
          ]
        }
      ]
    },
    {
      "cell_type": "code",
      "source": [
        "prado_path = 'prado.csv'"
      ],
      "metadata": {
        "id": "iL5-mPiJ_EqH"
      },
      "execution_count": 5,
      "outputs": []
    },
    {
      "cell_type": "markdown",
      "source": [
        "## Peek at the data"
      ],
      "metadata": {
        "id": "6jIJ2E7M_n8U"
      }
    },
    {
      "cell_type": "code",
      "source": [
        "df_pl = pl.read_csv(prado_path)"
      ],
      "metadata": {
        "id": "hDggc3A3AVnc"
      },
      "execution_count": 6,
      "outputs": []
    },
    {
      "cell_type": "code",
      "source": [
        "df_pl.describe()"
      ],
      "metadata": {
        "colab": {
          "base_uri": "https://localhost:8080/",
          "height": 435
        },
        "id": "MRDKTQTcBXnw",
        "outputId": "60ec6979-199c-4f92-de27-4c215d181d5f"
      },
      "execution_count": 7,
      "outputs": [
        {
          "output_type": "execute_result",
          "data": {
            "text/plain": [
              "shape: (9, 31)\n",
              "┌───────────┬───────────┬───────────┬───────────┬───┬───────────┬───────────┬───────────┬──────────┐\n",
              "│ describe  ┆ work_url  ┆ work_imag ┆ author    ┆ … ┆ technical ┆ technical ┆ technical ┆ technica │\n",
              "│ ---       ┆ ---       ┆ e_url     ┆ ---       ┆   ┆ _sheet_ma ┆ _sheet_ce ┆ _sheet_au ┆ l_sheet_ │\n",
              "│ str       ┆ str       ┆ ---       ┆ str       ┆   ┆ teria     ┆ ca        ┆ tora      ┆ lugar_de │\n",
              "│           ┆           ┆ str       ┆           ┆   ┆ ---       ┆ ---       ┆ ---       ┆ _producc │\n",
              "│           ┆           ┆           ┆           ┆   ┆ str       ┆ str       ┆ str       ┆ …        │\n",
              "│           ┆           ┆           ┆           ┆   ┆           ┆           ┆           ┆ ---      │\n",
              "│           ┆           ┆           ┆           ┆   ┆           ┆           ┆           ┆ str      │\n",
              "╞═══════════╪═══════════╪═══════════╪═══════════╪═══╪═══════════╪═══════════╪═══════════╪══════════╡\n",
              "│ count     ┆ 13487     ┆ 13487     ┆ 13487     ┆ … ┆ 2441      ┆ 910       ┆ 79        ┆ 334      │\n",
              "│ null_coun ┆ 0         ┆ 0         ┆ 0         ┆ … ┆ 11046     ┆ 12577     ┆ 13408     ┆ 13153    │\n",
              "│ t         ┆           ┆           ┆           ┆   ┆           ┆           ┆           ┆          │\n",
              "│ mean      ┆ null      ┆ null      ┆ null      ┆ … ┆ null      ┆ null      ┆ null      ┆ null     │\n",
              "│ std       ┆ null      ┆ null      ┆ null      ┆ … ┆ null      ┆ null      ┆ null      ┆ null     │\n",
              "│ min       ┆ https://w ┆ https://c ┆ Abadía el ┆ … ┆ Aguamarin ┆ Abariltur ┆ Aggerholm ┆ Alcora   │\n",
              "│           ┆ ww.museod ┆ ontent3.c ┆ Viejo,    ┆   ┆ a;        ┆ (no local ┆ , Eva     ┆ (Castell │\n",
              "│           ┆ elprado.e ┆ dnprado.n ┆ Juan de   ┆   ┆ Amatista; ┆ izada)    ┆           ┆ ón)      │\n",
              "│           ┆ s/col…    ┆ et/im…    ┆ la        ┆   ┆ Circón;   ┆           ┆           ┆          │\n",
              "│           ┆           ┆           ┆           ┆   ┆ Es…       ┆           ┆           ┆          │\n",
              "│ 25%       ┆ null      ┆ null      ┆ null      ┆ … ┆ null      ┆ null      ┆ null      ┆ null     │\n",
              "│ 50%       ┆ null      ┆ null      ┆ null      ┆ … ┆ null      ┆ null      ┆ null      ┆ null     │\n",
              "│ 75%       ┆ null      ┆ null      ┆ null      ┆ … ┆ null      ┆ null      ┆ null      ┆ null     │\n",
              "│ max       ┆ https://w ┆ https://c ┆ Österman, ┆ … ┆ Ágata;    ┆ Valentia  ┆ Ykens,    ┆ Vietnam  │\n",
              "│           ┆ ww.museod ┆ ontent3.c ┆ Bernhard  ┆   ┆ Oro; Rubí ┆ (Valencia ┆ Catharina ┆          │\n",
              "│           ┆ elprado.e ┆ dnprado.n ┆           ┆   ┆           ┆ )         ┆ II        ┆          │\n",
              "│           ┆ s/col…    ┆ et/im…    ┆           ┆   ┆           ┆           ┆           ┆          │\n",
              "└───────────┴───────────┴───────────┴───────────┴───┴───────────┴───────────┴───────────┴──────────┘"
            ],
            "text/html": [
              "<div><style>\n",
              ".dataframe > thead > tr,\n",
              ".dataframe > tbody > tr {\n",
              "  text-align: right;\n",
              "  white-space: pre-wrap;\n",
              "}\n",
              "</style>\n",
              "<small>shape: (9, 31)</small><table border=\"1\" class=\"dataframe\"><thead><tr><th>describe</th><th>work_url</th><th>work_image_url</th><th>author</th><th>author_bio</th><th>author_url</th><th>author_id</th><th>work_title</th><th>work_subtitle</th><th>work_exposed</th><th>work_description</th><th>work_tags</th><th>technical_sheet_numero_de_catalogo</th><th>technical_sheet_autor</th><th>technical_sheet_titulo</th><th>technical_sheet_fecha</th><th>technical_sheet_tecnica</th><th>technical_sheet_soporte</th><th>technical_sheet_dimension</th><th>technical_sheet_serie</th><th>technical_sheet_procedencia</th><th>bibliography</th><th>inventory</th><th>expositions</th><th>ubication</th><th>technical_sheet_autores</th><th>technical_sheet_edicion_/_estado</th><th>technical_sheet_materia</th><th>technical_sheet_ceca</th><th>technical_sheet_autora</th><th>technical_sheet_lugar_de_produccion</th></tr><tr><td>str</td><td>str</td><td>str</td><td>str</td><td>str</td><td>str</td><td>str</td><td>str</td><td>str</td><td>str</td><td>str</td><td>str</td><td>str</td><td>str</td><td>str</td><td>str</td><td>str</td><td>str</td><td>str</td><td>str</td><td>str</td><td>str</td><td>str</td><td>str</td><td>str</td><td>str</td><td>str</td><td>str</td><td>str</td><td>str</td><td>str</td></tr></thead><tbody><tr><td>&quot;count&quot;</td><td>&quot;13487&quot;</td><td>&quot;13487&quot;</td><td>&quot;13487&quot;</td><td>&quot;9405&quot;</td><td>&quot;12360&quot;</td><td>&quot;12360&quot;</td><td>&quot;13487&quot;</td><td>&quot;13487&quot;</td><td>&quot;13487&quot;</td><td>&quot;13487&quot;</td><td>&quot;13487&quot;</td><td>&quot;13487&quot;</td><td>&quot;13408&quot;</td><td>&quot;13487&quot;</td><td>&quot;13485&quot;</td><td>&quot;13390&quot;</td><td>&quot;11035&quot;</td><td>&quot;13464&quot;</td><td>&quot;3790&quot;</td><td>&quot;13428&quot;</td><td>&quot;13479&quot;</td><td>&quot;13168&quot;</td><td>&quot;10889&quot;</td><td>&quot;6539&quot;</td><td>&quot;0&quot;</td><td>&quot;423&quot;</td><td>&quot;2441&quot;</td><td>&quot;910&quot;</td><td>&quot;79&quot;</td><td>&quot;334&quot;</td></tr><tr><td>&quot;null_count&quot;</td><td>&quot;0&quot;</td><td>&quot;0&quot;</td><td>&quot;0&quot;</td><td>&quot;4082&quot;</td><td>&quot;1127&quot;</td><td>&quot;1127&quot;</td><td>&quot;0&quot;</td><td>&quot;0&quot;</td><td>&quot;0&quot;</td><td>&quot;0&quot;</td><td>&quot;0&quot;</td><td>&quot;0&quot;</td><td>&quot;79&quot;</td><td>&quot;0&quot;</td><td>&quot;2&quot;</td><td>&quot;97&quot;</td><td>&quot;2452&quot;</td><td>&quot;23&quot;</td><td>&quot;9697&quot;</td><td>&quot;59&quot;</td><td>&quot;8&quot;</td><td>&quot;319&quot;</td><td>&quot;2598&quot;</td><td>&quot;6948&quot;</td><td>&quot;13487&quot;</td><td>&quot;13064&quot;</td><td>&quot;11046&quot;</td><td>&quot;12577&quot;</td><td>&quot;13408&quot;</td><td>&quot;13153&quot;</td></tr><tr><td>&quot;mean&quot;</td><td>null</td><td>null</td><td>null</td><td>null</td><td>null</td><td>null</td><td>null</td><td>null</td><td>null</td><td>null</td><td>null</td><td>null</td><td>null</td><td>null</td><td>null</td><td>null</td><td>null</td><td>null</td><td>null</td><td>null</td><td>null</td><td>null</td><td>null</td><td>null</td><td>null</td><td>null</td><td>null</td><td>null</td><td>null</td><td>null</td></tr><tr><td>&quot;std&quot;</td><td>null</td><td>null</td><td>null</td><td>null</td><td>null</td><td>null</td><td>null</td><td>null</td><td>null</td><td>null</td><td>null</td><td>null</td><td>null</td><td>null</td><td>null</td><td>null</td><td>null</td><td>null</td><td>null</td><td>null</td><td>null</td><td>null</td><td>null</td><td>null</td><td>null</td><td>null</td><td>null</td><td>null</td><td>null</td><td>null</td></tr><tr><td>&quot;min&quot;</td><td>&quot;https://www.mu…</td><td>&quot;https://conten…</td><td>&quot;Abadía el Viej…</td><td>&quot;(Spain), 1483,…</td><td>&quot;https://www.mu…</td><td>&quot;003a654b-ee5f-…</td><td>&quot;&quot;Hispania&quot;. Bu…</td><td>&quot;.&quot;</td><td>&quot;Depósito en ot…</td><td>&quot;&quot;A moro muerto…</td><td>&quot;&#x27;&#x27;L’Artiste, J…</td><td>&quot;D000002&quot;</td><td>&quot;Abadía el Viej…</td><td>&quot;&#x27;&#x27;Crepúsculo&#x27;&#x27;…</td><td>&quot;10 - 50&quot;</td><td>&quot;Acuarela&quot;</td><td>&quot;Cartulina&quot;</td><td>&quot;Alto (de luz):…</td><td>&quot;&#x27;&#x27;L’Artiste, J…</td><td>&quot;A. C.  von Fre…</td><td>&quot;&quot;122&quot; manuscri…</td><td>&quot;&quot;112&quot; manuscri…</td><td>&quot;&quot;1&quot;\n",
              "Manuscrito…</td><td>&quot;&quot;1&quot; (repasado)…</td><td>null</td><td>&quot;1898&quot;</td><td>&quot;Aguamarina; Am…</td><td>&quot;Abariltur (no …</td><td>&quot;Aggerholm, Eva…</td><td>&quot;Alcora (Castel…</td></tr><tr><td>&quot;25%&quot;</td><td>null</td><td>null</td><td>null</td><td>null</td><td>null</td><td>null</td><td>null</td><td>null</td><td>null</td><td>null</td><td>null</td><td>null</td><td>null</td><td>null</td><td>null</td><td>null</td><td>null</td><td>null</td><td>null</td><td>null</td><td>null</td><td>null</td><td>null</td><td>null</td><td>null</td><td>null</td><td>null</td><td>null</td><td>null</td><td>null</td></tr><tr><td>&quot;50%&quot;</td><td>null</td><td>null</td><td>null</td><td>null</td><td>null</td><td>null</td><td>null</td><td>null</td><td>null</td><td>null</td><td>null</td><td>null</td><td>null</td><td>null</td><td>null</td><td>null</td><td>null</td><td>null</td><td>null</td><td>null</td><td>null</td><td>null</td><td>null</td><td>null</td><td>null</td><td>null</td><td>null</td><td>null</td><td>null</td><td>null</td></tr><tr><td>&quot;75%&quot;</td><td>null</td><td>null</td><td>null</td><td>null</td><td>null</td><td>null</td><td>null</td><td>null</td><td>null</td><td>null</td><td>null</td><td>null</td><td>null</td><td>null</td><td>null</td><td>null</td><td>null</td><td>null</td><td>null</td><td>null</td><td>null</td><td>null</td><td>null</td><td>null</td><td>null</td><td>null</td><td>null</td><td>null</td><td>null</td><td>null</td></tr><tr><td>&quot;max&quot;</td><td>&quot;https://www.mu…</td><td>&quot;https://conten…</td><td>&quot;Österman, Bern…</td><td>&quot;Íscar, Vallado…</td><td>&quot;https://www.mu…</td><td>&quot;ffeab1ca-6f5d-…</td><td>&quot;Últimos moment…</td><td>&quot;Último tercio …</td><td>&quot;Ábside&quot;</td><td>&quot;“Modellino” cu…</td><td>&quot;“Sacra Familia…</td><td>&quot;P008391&quot;</td><td>&quot;Österman, Bern…</td><td>&quot;Últimos moment…</td><td>&quot;Último tercio …</td><td>&quot;Óleo; Témpera&quot;</td><td>&quot;Vitela&quot;</td><td>&quot;Peso: 26,8 Kg;…</td><td>&quot;“Sacra Familia…</td><td>&quot;Émile Galichon…</td><td>&quot;“Noticias [Jua…</td><td>&quot;† MI GO PEDRET…</td><td>&quot;⚜\n",
              "Flor de lis,…</td><td>&quot;Úbeda - Ayunta…</td><td>null</td><td>&quot;Tercer estado …</td><td>&quot;Ágata; Oro; Ru…</td><td>&quot;Valentia (Vale…</td><td>&quot;Ykens, Cathari…</td><td>&quot;Vietnam&quot;</td></tr></tbody></table></div>"
            ]
          },
          "metadata": {},
          "execution_count": 7
        }
      ]
    },
    {
      "cell_type": "markdown",
      "source": [
        "#### Spark session"
      ],
      "metadata": {
        "id": "7pm4aeWYB3CG"
      }
    },
    {
      "cell_type": "code",
      "source": [
        "# fire up the Spark session and upload df\n",
        "spark = SparkSession.builder.appName('prado').getOrCreate()\n",
        "df = spark.read.csv(prado_path, header=True, multiLine=True, escape='\"')"
      ],
      "metadata": {
        "id": "IEU8H9t-Bet4"
      },
      "execution_count": 8,
      "outputs": []
    },
    {
      "cell_type": "code",
      "source": [
        "df.show(3)"
      ],
      "metadata": {
        "colab": {
          "base_uri": "https://localhost:8080/"
        },
        "id": "xXgyr-sRBerS",
        "outputId": "ace0a39a-6249-48dd-aee7-7ab9af1b9ed2"
      },
      "execution_count": 9,
      "outputs": [
        {
          "output_type": "stream",
          "name": "stdout",
          "text": [
            "+--------------------+--------------------+--------------------+--------------------+--------------------+--------------------+--------------------+--------------------+------------+--------------------+--------------------+----------------------------------+---------------------+----------------------+---------------------+-----------------------+-----------------------+-------------------------+---------------------+---------------------------+--------------------+--------------------+--------------------+--------------------+-----------------------+--------------------------------+-----------------------+--------------------+----------------------+-----------------------------------+\n",
            "|            work_url|      work_image_url|              author|          author_bio|          author_url|           author_id|          work_title|       work_subtitle|work_exposed|    work_description|           work_tags|technical_sheet_numero_de_catalogo|technical_sheet_autor|technical_sheet_titulo|technical_sheet_fecha|technical_sheet_tecnica|technical_sheet_soporte|technical_sheet_dimension|technical_sheet_serie|technical_sheet_procedencia|        bibliography|           inventory|         expositions|           ubication|technical_sheet_autores|technical_sheet_edicion_/_estado|technical_sheet_materia|technical_sheet_ceca|technical_sheet_autora|technical_sheet_lugar_de_produccion|\n",
            "+--------------------+--------------------+--------------------+--------------------+--------------------+--------------------+--------------------+--------------------+------------+--------------------+--------------------+----------------------------------+---------------------+----------------------+---------------------+-----------------------+-----------------------+-------------------------+---------------------+---------------------------+--------------------+--------------------+--------------------+--------------------+-----------------------+--------------------------------+-----------------------+--------------------+----------------------+-----------------------------------+\n",
            "|https://www.museo...|https://content3....|Bayeu y Subías, F...|Zaragoza, 1734 - ...|https://www.museo...|b218fee4-053b-465...|   Cabeza de Gigante|1764. Lápiz negro...| No expuesto|De tres cuartos, ...|Serie de dibujos ...|                           D003269| Bayeu y Subías, F...|     Cabeza de Gigante|                 1764|            Lápiz negro|          Papel verdoso|     Alto: 572 mm;\\n\\n...| Serie de dibujos ...|             Colección Real|Arnáez, Rocío,  D...|Inv. Real Museo, ...|[… + escudo] (Sel...|Dibujos de Franci...|                   NULL|                            NULL|                   NULL|                NULL|                  NULL|                               NULL|\n",
            "|https://www.museo...|https://content3....|Crespi, Giuseppe ...|Bolonia, 1665 - B...|https://www.museo...|b20a5ee9-2ebd-4e6...| Susana y los viejos|Siglo XVIII. Sang...| No expuesto|A la derecha, Sus...|Sanguina;Papel ag...|                           D001341| Crespi, Giuseppe ...|   Susana y los viejos|          Siglo XVIII|               Sanguina|      Papel agarbanzado|     Alto: 205 mm;\\n\\n...|                 NULL|       Legado Pedro Fern...|Mena Marqués, Man...|Inv. Legado Pedro...|Veneziano\\nRevers...|                NULL|                   NULL|                            NULL|                   NULL|                NULL|                  NULL|                               NULL|\n",
            "|https://www.museo...|https://content3....|Cronenburch, Adri...|Schagen (Países B...|https://www.museo...|26861819-ff88-4fd...|Dama con una flor...|Hacia  1567. Óleo...| No expuesto|Esta obra, junto ...|Óleo;Tabla;Retrat...|                           P002073| Cronenburch, Adri...|  Dama con una flor...|          Hacia  1567|                   Óleo|                  Tabla|     Alto: 107 cm;\\n\\n...|                 NULL|       Colección Real (P...|Madrazo, Pedro de...|Catálogo Museo de...|Aaaa[\"a mas tres(...|El retrato del Re...|                   NULL|                            NULL|                   NULL|                NULL|                  NULL|                               NULL|\n",
            "+--------------------+--------------------+--------------------+--------------------+--------------------+--------------------+--------------------+--------------------+------------+--------------------+--------------------+----------------------------------+---------------------+----------------------+---------------------+-----------------------+-----------------------+-------------------------+---------------------+---------------------------+--------------------+--------------------+--------------------+--------------------+-----------------------+--------------------------------+-----------------------+--------------------+----------------------+-----------------------------------+\n",
            "only showing top 3 rows\n",
            "\n"
          ]
        }
      ]
    },
    {
      "cell_type": "code",
      "source": [
        "print(f'Dataset has {df.count()} rows')"
      ],
      "metadata": {
        "colab": {
          "base_uri": "https://localhost:8080/"
        },
        "id": "bOn5BDAQBeo0",
        "outputId": "3aa2445a-ae89-46fe-a2fd-30644ee56f2b"
      },
      "execution_count": 10,
      "outputs": [
        {
          "output_type": "stream",
          "name": "stdout",
          "text": [
            "Dataset has 13487 rows\n"
          ]
        }
      ]
    },
    {
      "cell_type": "markdown",
      "source": [
        "## Data pre-processing"
      ],
      "metadata": {
        "id": "fAdB23DM_xFM"
      }
    },
    {
      "cell_type": "markdown",
      "source": [
        "#### Split work_tags\n",
        "\n",
        "We are connecting the paintings based on the shared tags, in the column \"work_tags\". It is currently a string so we need to convert it to an array."
      ],
      "metadata": {
        "id": "SfsffyzYDHVU"
      }
    },
    {
      "cell_type": "code",
      "source": [
        "# string is separeted by semicolon\n",
        "print(df.select('work_tags').collect()[0][0])"
      ],
      "metadata": {
        "colab": {
          "base_uri": "https://localhost:8080/"
        },
        "id": "IprizUQYAV_7",
        "outputId": "5fd7b48a-cbe7-46d5-e7e8-602d39eb91b5"
      },
      "execution_count": 11,
      "outputs": [
        {
          "output_type": "stream",
          "name": "stdout",
          "text": [
            "Serie de dibujos para el fresco la Caída de los Gigantes en el Palacio Real de Madrid;Lápiz negro;Papel verdoso;Estudio de cabeza;Mitología;1764;+\n"
          ]
        }
      ]
    },
    {
      "cell_type": "code",
      "source": [
        "# split the tags string into a list of tags\n",
        "df = df.withColumn('tags_array', split(col('work_tags'), ';'))"
      ],
      "metadata": {
        "id": "35OMxF5WC9I8"
      },
      "execution_count": 12,
      "outputs": []
    },
    {
      "cell_type": "code",
      "source": [
        "df.select('tags_array').collect()[0][0] # check first row's tags array"
      ],
      "metadata": {
        "colab": {
          "base_uri": "https://localhost:8080/"
        },
        "id": "smwbUIXjC9GJ",
        "outputId": "536a7c20-b57f-48bd-c52a-871bbb3815d7"
      },
      "execution_count": 13,
      "outputs": [
        {
          "output_type": "execute_result",
          "data": {
            "text/plain": [
              "['Serie de dibujos para el fresco la Caída de los Gigantes en el Palacio Real de Madrid',\n",
              " 'Lápiz negro',\n",
              " 'Papel verdoso',\n",
              " 'Estudio de cabeza',\n",
              " 'Mitología',\n",
              " '1764',\n",
              " '+']"
            ]
          },
          "metadata": {},
          "execution_count": 13
        }
      ]
    },
    {
      "cell_type": "markdown",
      "source": [
        "#### Tags distribution"
      ],
      "metadata": {
        "id": "_dMZ0FHpDtfJ"
      }
    },
    {
      "cell_type": "code",
      "source": [
        "# list with all tags array\n",
        "tags_lists = df.select(collect_list(\"tags_array\")).first()[0]\n",
        "\n",
        "all_tags = [tag for sublist in tags_lists for tag in sublist]\n",
        "\n",
        "tags_counter = Counter(all_tags)\n",
        "\n",
        "print(f'Number of unique tags: {len(set(all_tags))} \\n')\n",
        "\n",
        "print('Most common tags:')\n",
        "for tag, count in tags_counter.most_common(20):\n",
        "  print(f'{tag}: {count}')"
      ],
      "metadata": {
        "colab": {
          "base_uri": "https://localhost:8080/"
        },
        "id": "85DB_jiSDqCI",
        "outputId": "efa71c16-a182-4f99-ff06-1920d7aceb4e"
      },
      "execution_count": 14,
      "outputs": [
        {
          "output_type": "stream",
          "name": "stdout",
          "text": [
            "Number of unique tags: 3548 \n",
            "\n",
            "Most common tags:\n",
            "+: 12993\n",
            "Óleo: 4177\n",
            "Lienzo: 3225\n",
            "Pluma: 1923\n",
            "Papel verjurado: 1477\n",
            "Lápiz negro: 1248\n",
            "Acuñación: 1120\n",
            "Bronce: 987\n",
            "Papel avitelado: 954\n",
            "Tinta parda: 944\n",
            "Santos: 937\n",
            "Aguada: 916\n",
            "Sanguina: 836\n",
            "Animales: 813\n",
            "Figura Humana: 811\n",
            "Clarión: 768\n",
            "Retrato real: 734\n",
            "Aguada parda: 725\n",
            "Tabla: 669\n",
            "Caballo (Equus ferus caballus): 656\n"
          ]
        }
      ]
    },
    {
      "cell_type": "markdown",
      "source": [
        "#### Drop + tag\n",
        "\n",
        "The \"+\" tags is the most frequent.\n",
        "\n",
        "Checking on the Prado museum website, we can see that \"+\" is not a real label/tag, rather it's a button to display more tags. Hence, it's not meaningful and connects most of the paintings for no reason.\n",
        "\n",
        "For these reasons, we decided to **drop the \"+\" tag** in the following analysis."
      ],
      "metadata": {
        "id": "c8VJstQ8H0QZ"
      }
    },
    {
      "cell_type": "code",
      "source": [
        "# drop the + tag\n",
        "df = df.withColumn('tags_array', array_remove(col('tags_array'), \"+\"))\n",
        "# rerun since + was dropped\n",
        "tags_lists = df.select(collect_list(\"tags_array\")).first()[0]\n",
        "all_tags = [tag for sublist in tags_lists for tag in sublist]\n",
        "print(f'Number of unique tags (whitout +): {len(set(all_tags))} \\n')"
      ],
      "metadata": {
        "colab": {
          "base_uri": "https://localhost:8080/"
        },
        "id": "MAAYWd5ZDp_M",
        "outputId": "a337808c-1a32-4890-bc90-ddcb3bedfbd0"
      },
      "execution_count": 15,
      "outputs": [
        {
          "output_type": "stream",
          "name": "stdout",
          "text": [
            "Number of unique tags (whitout +): 3547 \n",
            "\n"
          ]
        }
      ]
    },
    {
      "cell_type": "code",
      "source": [
        "tags_counter = Counter(all_tags)\n",
        "# make a sorted dict of the tags frequency\n",
        "tags_counted = dict(sorted(tags_counter.items(), key=lambda x: x[1], reverse=True))\n",
        "print(f'Average Tag frequency: {np.mean(list(tags_counted.values()))}')"
      ],
      "metadata": {
        "colab": {
          "base_uri": "https://localhost:8080/"
        },
        "id": "0itn7rgvPMYD",
        "outputId": "8056bd0f-036d-4c03-a3be-0a031b3f55e3"
      },
      "execution_count": 16,
      "outputs": [
        {
          "output_type": "stream",
          "name": "stdout",
          "text": [
            "Average Tag frequency: 22.86467437270933\n"
          ]
        }
      ]
    },
    {
      "cell_type": "code",
      "source": [
        "plt.boxplot(list(tags_counted.values()))\n",
        "plt.title('Boxplot of tags frequencies')\n",
        "plt.xlabel('Tag Frequency')\n",
        "plt.show()\n"
      ],
      "metadata": {
        "colab": {
          "base_uri": "https://localhost:8080/",
          "height": 472
        },
        "id": "UAshzfidPP8k",
        "outputId": "fb8aaa8c-ca49-44c7-b98d-5cff810c7c98"
      },
      "execution_count": 17,
      "outputs": [
        {
          "output_type": "display_data",
          "data": {
            "text/plain": [
              "<Figure size 640x480 with 1 Axes>"
            ],
            "image/png": "[encoded data removed]"
          },
          "metadata": {}
        }
      ]
    },
    {
      "cell_type": "code",
      "source": [],
      "metadata": {
        "id": "bRUNujw-PP6F"
      },
      "execution_count": 18,
      "outputs": []
    },
    {
      "cell_type": "markdown",
      "source": [
        "## Graph"
      ],
      "metadata": {
        "id": "47NlJ15__26F"
      }
    },
    {
      "cell_type": "markdown",
      "source": [
        "#### Sample dataframe (optional)\n",
        "If any of our readers is interested, it is possible to use only a sample of the dataframe and create a smaller network, simply by commenting and uncommeting the lines in the next code chunk."
      ],
      "metadata": {
        "id": "5vVk7z5OT8TK"
      }
    },
    {
      "cell_type": "code",
      "source": [
        "# df_sample = df.sample(fraction=0.1, seed=69)\n",
        "# df_id = df_sample.withColumn('id', monotonically_increasing_id())\n",
        "\n",
        "# we create a new node id as increasing integers\n",
        "df_id = df.withColumn('id', monotonically_increasing_id())"
      ],
      "metadata": {
        "id": "C0JH_bjyAWYE"
      },
      "execution_count": 18,
      "outputs": []
    },
    {
      "cell_type": "markdown",
      "source": [
        "### Create edge df\n",
        "In the next code chunk we create the edge RDD:\n",
        "\n",
        "*   we explode the dataframe so we have a tag for each row\n",
        "*   group the paintings ids by each tag\n",
        "*   each combination of painting in a tag group represents 2 nodes that are connected\n",
        "*   since the graph is undirected by nature, we represent that with 2 directed edges, of opposite directions, for each connected pair of nodes\n",
        "*   drop the duplicate rows formed by pair of paintings that are in more than one tag group\n",
        "\n"
      ],
      "metadata": {
        "id": "XWobIuyOqeuw"
      }
    },
    {
      "cell_type": "code",
      "source": [
        "# Expand the tags_array so each tag is in a separate row\n",
        "tags_df = df_id.select(col(\"id\"), col(\"work_url\"), explode(col(\"tags_array\")).alias(\"tag\"))\n",
        "\n",
        "# group by tag\n",
        "tags_rdd = tags_df.rdd.map(lambda row: (row['tag'], row['id'])).repartition(200)\n",
        "tag_groups_rdd = tags_rdd.groupByKey().mapValues(list)\n",
        "\n",
        "# generate the edges (combinations of painting ids)\n",
        "def generate_edges(paintings):\n",
        "    edges = list(itertools.combinations(paintings, 2))\n",
        "    # since we the graph is undirected, we add for each edge the other direction\n",
        "    bidirectional_edges = [(edge[0], edge[1]) for edge in edges] + [(edge[1], edge[0]) for edge in edges]\n",
        "\n",
        "    return bidirectional_edges\n",
        "\n",
        "# we keep an RDD with duplicate rows for the weighted PageRank approach\n",
        "edges_rdd_dupl = tag_groups_rdd.flatMap(lambda x: generate_edges(x[1]))\n",
        "\n",
        "edges_rdd = edges_rdd_dupl.distinct()\n"
      ],
      "metadata": {
        "id": "vQeSvMOIViU-"
      },
      "execution_count": 19,
      "outputs": []
    },
    {
      "cell_type": "code",
      "source": [
        "print(f'Total number of edges: {edges_rdd.count()}')\n"
      ],
      "metadata": {
        "colab": {
          "base_uri": "https://localhost:8080/"
        },
        "id": "FkRhX1L6ViSO",
        "outputId": "e6f660c6-bcbf-4cac-eae3-649973348caf"
      },
      "execution_count": 20,
      "outputs": [
        {
          "output_type": "stream",
          "name": "stdout",
          "text": [
            "Total number of edges: 36145728\n"
          ]
        }
      ]
    },
    {
      "cell_type": "markdown",
      "source": [
        "### Nodes degrees distribution"
      ],
      "metadata": {
        "id": "a-fFAzDbtYob"
      }
    },
    {
      "cell_type": "code",
      "source": [
        "# check the node degree distribution\n",
        "degree_rdd = edges_rdd.flatMap(lambda edge: [(edge[0], 1), (edge[1], 1)])\n",
        "node_degrees = degree_rdd.reduceByKey(lambda a, b: a + b) # count how many times each node appears\n",
        "\n",
        "# map the degree to their frequencies\n",
        "degree_distribution = node_degrees.map(lambda x: (x[1], 1)) \\\n",
        "                                  .reduceByKey(lambda a, b: a + b) \\\n",
        "                                  .sortByKey()\n",
        "degree_distribution_list = degree_distribution.collect()\n"
      ],
      "metadata": {
        "id": "7qQR7cXGtSQu"
      },
      "execution_count": 21,
      "outputs": []
    },
    {
      "cell_type": "code",
      "source": [
        "print(\"Nodes degrees:\")\n",
        "for d, c in degree_distribution_list[:5]:\n",
        "    print(f\"Low degree: {d}, frequency: {c}\")\n",
        "for d, c in degree_distribution_list[-5:]:\n",
        "    print(f\"High degree: {d}, frequency: {c}\")\n"
      ],
      "metadata": {
        "colab": {
          "base_uri": "https://localhost:8080/"
        },
        "id": "MXuZKuWxx5Ov",
        "outputId": "8005549d-24e0-4ccb-cb3b-bca78bd131a3"
      },
      "execution_count": 22,
      "outputs": [
        {
          "output_type": "stream",
          "name": "stdout",
          "text": [
            "Nodes degrees:\n",
            "Low degree: 22, frequency: 2\n",
            "Low degree: 42, frequency: 2\n",
            "Low degree: 114, frequency: 1\n",
            "Low degree: 120, frequency: 2\n",
            "Low degree: 126, frequency: 1\n",
            "High degree: 12692, frequency: 1\n",
            "High degree: 12730, frequency: 1\n",
            "High degree: 12924, frequency: 1\n",
            "High degree: 12982, frequency: 1\n",
            "High degree: 13028, frequency: 1\n"
          ]
        }
      ]
    },
    {
      "cell_type": "markdown",
      "source": [
        "Since both the in-degree and out-degree of the the least connected node are 13, we see there are **no deadend nodes**."
      ],
      "metadata": {
        "id": "wTrQT4fx2AQl"
      }
    },
    {
      "cell_type": "code",
      "source": [
        "# plot degree distribution\n",
        "plt.figure(figsize=(10, 6))\n",
        "plt.bar([d for d,c in degree_distribution_list],\n",
        "        [c for d,c in degree_distribution_list],\n",
        "        color='blue', alpha=0.7)\n",
        "plt.xlabel('Node Degree', fontsize=14)\n",
        "plt.ylabel('Number of Nodes', fontsize=14)\n",
        "plt.title('Node Degree Distribution', fontsize=16)\n",
        "plt.grid(True)\n",
        "plt.show()"
      ],
      "metadata": {
        "colab": {
          "base_uri": "https://localhost:8080/",
          "height": 435
        },
        "id": "u9WuBP2w0qi7",
        "outputId": "1f97f49e-d373-4c70-e415-82dd3ce8c6d2"
      },
      "execution_count": 23,
      "outputs": [
        {
          "output_type": "display_data",
          "data": {
            "text/plain": [
              "<Figure size 1000x600 with 1 Axes>"
            ],
            "image/png": "[encoded data removed]"
          },
          "metadata": {}
        }
      ]
    },
    {
      "cell_type": "markdown",
      "source": [
        "## PageRank\n",
        "At last, it's time to implement the function to compute the PageRank values.\n",
        "\n",
        "Since the dataset is quite big, and the transition matrix is sparse, we decided to use another approach for representing the links and computing contributions: the **adjacency list**. This would make the computations less cumbersome.\n",
        "\n",
        "Firstly, we defined a function to compute the euclidean distance (L1-norm or L2-norm), in order to see when the pageRank values would converge.\n",
        "\n",
        "Our PageRank function is structured as follows:\n",
        "\n",
        "*   Inputs:\n",
        "  * the RDD with the edge information\n",
        "  * the number of iterations for the PR values to be updated\n",
        "  * the dampening factor meaning the possibility of jumping to a random node\n",
        "  * the tolerance under which we consider the PR values to converge\n",
        "\n",
        "*  first compute the adjacency list from the edge RDD\n",
        "*   initialize the first pageRank as a uniform probability over all nodes\n",
        "\n",
        "Inside the iterations loop:\n",
        "* check if the the previous PR values converged\n",
        "* compute the PR contribution of nodes to their neighbors from the adjacency list and previous iteration's PR\n",
        "* compute the PR values of the current iteration, according to the formula:\n",
        "\n",
        "$$\n",
        "PR(V_i) = d \\cdot \\sum_{V_j \\in in-neighbors(V_i)} \\frac{PR(V_j)}{length(V_j)} + \\frac{1 - d}{N}\n",
        "$$\n",
        "\n",
        "  * update the distance value between current PR and previous iteration's PR\n",
        "\n",
        "Output the PageRank values for the nodes"
      ],
      "metadata": {
        "id": "fduTryBnAEnV"
      }
    },
    {
      "cell_type": "code",
      "source": [
        "# distance functions to check PR convergence\n",
        "def euclidean_distance(new_pr, old_pr):\n",
        "  distance = np.sqrt(new_pr.join(old_pr)\\\n",
        "                     .mapValues(lambda x: (x[0] - x[1])**2)\\\n",
        "                     .values().sum())\n",
        "  return distance\n",
        "\n",
        "def manhattan_distance(new_pr, old_pr):\n",
        "  distance = new_pr.join(old_pr)\\\n",
        "                   .mapValues(lambda x: abs(x[0] - x[1])\\\n",
        "                   .values().sum())\n",
        "  return distance"
      ],
      "metadata": {
        "id": "SWWp9ZFp_b2j"
      },
      "execution_count": 24,
      "outputs": []
    },
    {
      "cell_type": "code",
      "source": [
        "def pageranker(edges_rdd, iterations=50, d=0.85, tolerance=1e-6):\n",
        "  print('Initializing variables...')\n",
        "  # compute the adjency list from the edges\n",
        "  adjacency_list = edges_rdd.groupByKey().mapValues(list)\n",
        "  # adjacency_list = {v_j : [v_i, ...], ...}\n",
        "\n",
        "  # initialize variables and first pageRank\n",
        "  num_nodes = adjacency_list.count()\n",
        "  page_ranks = adjacency_list.mapValues(lambda _: 1 / num_nodes)\n",
        "  distance = tolerance + 1\n",
        "\n",
        "  print('Starting iterations...')\n",
        "  # loop\n",
        "  for i in range(iterations):\n",
        "\n",
        "    if distance < tolerance:\n",
        "      print(f'Converged after {i} iterations')\n",
        "      break\n",
        "\n",
        "    old_page_ranks = page_ranks\n",
        "\n",
        "    # PR contributions to node's neighbors\n",
        "    contributions = page_ranks.join(adjacency_list).flatMap(\n",
        "        lambda node_data: [(neighbor, node_data[1][0] / len(node_data[1][1]))\n",
        "        for neighbor in node_data[1][1]])\n",
        "    # output join = {v_j : (pr(v_j), [v_i, ...]), ...}\n",
        "    # contributions = [( v_i, pr(v_j)/num_neighbors ), ...]\n",
        "\n",
        "    # compute the new pageRanks\n",
        "    page_ranks = contributions.reduceByKey(lambda a, b: a + b)\\\n",
        "                  .mapValues(lambda pr: d * pr + (1 - d)/num_nodes)\n",
        "\n",
        "    # update distance between new and old PR\n",
        "    distance = euclidean_distance(page_ranks, old_page_ranks)\n",
        "    print(f'Iteration {i + 1} - distance: {distance}')\n",
        "\n",
        "  print('PageRank computations completed!')\n",
        "  return page_ranks.collect()\n"
      ],
      "metadata": {
        "id": "dpW9--aMAXD4"
      },
      "execution_count": 25,
      "outputs": []
    },
    {
      "cell_type": "code",
      "source": [
        "pr_values = pageranker(edges_rdd, iterations=50, d=0.85, tolerance=1e-6)"
      ],
      "metadata": {
        "colab": {
          "base_uri": "https://localhost:8080/"
        },
        "id": "V3JUbL2H_eid",
        "outputId": "9293974d-d2bc-477c-abc0-ebc8075674b3"
      },
      "execution_count": 26,
      "outputs": [
        {
          "output_type": "stream",
          "name": "stdout",
          "text": [
            "Initializing variables...\n",
            "Starting iterations...\n",
            "Iteration 1 - distance: 0.0018896620409191644\n",
            "Iteration 2 - distance: 0.0005666358714482182\n",
            "Iteration 3 - distance: 0.00031101408056006657\n",
            "Iteration 4 - distance: 0.00019267618573441317\n",
            "Iteration 5 - distance: 0.00012727080100220922\n",
            "Iteration 6 - distance: 8.775658384226424e-05\n",
            "Iteration 7 - distance: 6.225707673738938e-05\n",
            "Iteration 8 - distance: 4.500302819502035e-05\n",
            "Iteration 9 - distance: 3.293864671252279e-05\n",
            "Iteration 10 - distance: 2.43130292524981e-05\n",
            "Iteration 11 - distance: 1.805201979818218e-05\n",
            "Iteration 12 - distance: 1.3459755141579463e-05\n",
            "Iteration 13 - distance: 1.0066627205674536e-05\n",
            "Iteration 14 - distance: 7.546193975381726e-06\n",
            "Iteration 15 - distance: 5.666674776707029e-06\n",
            "Iteration 16 - distance: 4.260977083822362e-06\n",
            "Iteration 17 - distance: 3.207301271476761e-06\n",
            "Iteration 18 - distance: 2.4161330213927457e-06\n",
            "Iteration 19 - distance: 1.821279101911674e-06\n",
            "Iteration 20 - distance: 1.373561244939412e-06\n",
            "Iteration 21 - distance: 1.0363100544827725e-06\n",
            "Iteration 22 - distance: 7.821063337954222e-07\n",
            "Converged after 22 iterations\n",
            "PageRank computations completed!\n"
          ]
        }
      ]
    },
    {
      "cell_type": "markdown",
      "source": [
        "We define a function to map the pageranks to the original paintings"
      ],
      "metadata": {
        "id": "Iy7IW7BZQe9l"
      }
    },
    {
      "cell_type": "code",
      "source": [
        "def map_pagerank_to_info(pagerank_values, df_id):\n",
        "\n",
        "    # mapping from node id to (author, title, catalogue number)\n",
        "    nodes_ids_mapping = dict(\n",
        "        df_id.select('id', 'technical_sheet_numero_de_catalogo', 'author', 'work_title')\\\n",
        "             .rdd.map(lambda row: (row['id'], (row['author'], row['work_title'], row['technical_sheet_numero_de_catalogo'])))\\\n",
        "             .collect())\n",
        "\n",
        "    # combine PR values with the painting information\n",
        "    pagerank_info = [\n",
        "        (node_id, pr_value, nodes_ids_mapping[node_id][0],\n",
        "         nodes_ids_mapping[node_id][1], nodes_ids_mapping[node_id][2])\n",
        "        for node_id, pr_value in pagerank_values]\n",
        "    # output = [(id, PR, author, title, catalogue number), ...]\n",
        "\n",
        "    # sort by pagerank\n",
        "    pagerank_info_sorted = sorted(pagerank_info, key=lambda x: x[1], reverse=True)\n",
        "\n",
        "    return pagerank_info_sorted\n"
      ],
      "metadata": {
        "id": "V6KGDjpTMiYh"
      },
      "execution_count": 27,
      "outputs": []
    },
    {
      "cell_type": "markdown",
      "source": [
        "#### Results"
      ],
      "metadata": {
        "id": "mKVUOPgM0IFo"
      }
    },
    {
      "cell_type": "code",
      "source": [
        "print('Top PageRank paintings: \\n')\n",
        "for (id, pr, author, title, cat_num) in map_pagerank_to_info(pr_values, df_id)[:10]:\n",
        "  print(f'{author}: \"{title}\" ---> PR: {pr}')"
      ],
      "metadata": {
        "colab": {
          "base_uri": "https://localhost:8080/"
        },
        "id": "D9mtTQqAPQNt",
        "outputId": "dbbca430-5cc6-4cff-8f70-6b1f0b4cdf8b"
      },
      "execution_count": 28,
      "outputs": [
        {
          "output_type": "stream",
          "name": "stdout",
          "text": [
            "Top PageRank paintings: \n",
            "\n",
            "Nin y Tudó, José: \"Retrato mortuorio del periodista Pedro Avial Taracena\" ---> PR: 0.00015103882538922218\n",
            "Anónimo: \"San Joaquín, Santa Ana y la Virgen Niña\" ---> PR: 0.00015027181924075854\n",
            "Sánchez Perrier, Emilio: \"Berlina tirada por un caballo en Sevilla\" ---> PR: 0.0001494849935387582\n",
            "Reynolds, Sir Joshua: \"Retrato de James Bourdieu\" ---> PR: 0.0001493752084443867\n",
            "Anónimo (Obra copiada de: El Greco): \"San Francisco en oración\" ---> PR: 0.00014747987056730946\n",
            "Creti, Donato  ?: \"Estudio de guerrero romano\" ---> PR: 0.0001442996777283197\n",
            "Hernández Nájera, Miguel: \"Víspera del Dos de Mayo\" ---> PR: 0.0001411289362628883\n",
            "Jover y Casanova, Francisco: \"Tratado de Cambray\" ---> PR: 0.00013979843307939627\n",
            "Oliva y Rodrigo, Eugenio: \"Cervantes, en sus últimos días, escribe la dedicatoria del Quijote al conde de Lemos\" ---> PR: 0.00013889075855638916\n",
            "Goya y Lucientes, Francisco de: \"Cabeza de asno de perfil, relinchando\" ---> PR: 0.00013832715943821813\n"
          ]
        }
      ]
    },
    {
      "cell_type": "markdown",
      "source": [
        "## PageRank Weighted\n",
        "\n",
        "In the following part, we decided to try a different approach: we computed edges based on the numbers of tags shared by 2 paintings.\n",
        "\n",
        "First we add the weight column to the edge RDD, then we normalize the weight by dividing each weight $w_i$ by the sum of the out-links' weights coming from $w_i$'s node."
      ],
      "metadata": {
        "id": "fM_x589-AEkj"
      }
    },
    {
      "cell_type": "markdown",
      "source": [
        "#### Create weighted edge RDD"
      ],
      "metadata": {
        "id": "oZFq1tcA5575"
      }
    },
    {
      "cell_type": "code",
      "source": [
        "# add the weight column using reduceByKey()\n",
        "edges_rdd_weighted = edges_rdd_dupl.map(lambda edge: (edge, 1)) \\\n",
        "                              .reduceByKey(lambda a, b: a + b) \\\n",
        "                              .map(lambda x: (x[0][0], x[0][1], x[1]))  # (start, end, weight)\n",
        "\n",
        "edges_rdd_weighted_norm = edges_rdd_weighted.map(\n",
        "    lambda x: (x[0], (x[1], x[2]))).join(\n",
        "        edges_rdd_weighted.map(     # inside the join there's (start, tot weight)\n",
        "            lambda x: (x[0], x[2])).reduceByKey(\n",
        "                lambda a, b: a + b)).map( # output join: (start, ((end, weight), tot weight))\n",
        "                    lambda x: (x[0], x[1][0][0], x[1][0][1] / x[1][1]))\n",
        "                # output: (start, end, norm weight)"
      ],
      "metadata": {
        "id": "jVNJrCNiAXZN"
      },
      "execution_count": 29,
      "outputs": []
    },
    {
      "cell_type": "code",
      "source": [
        "edges_rdd_weighted_norm.take(3)"
      ],
      "metadata": {
        "colab": {
          "base_uri": "https://localhost:8080/"
        },
        "id": "m27sWkg8ShmL",
        "outputId": "a9db80c7-9889-4d71-e45d-44469228ec01"
      },
      "execution_count": 30,
      "outputs": [
        {
          "output_type": "execute_result",
          "data": {
            "text/plain": [
              "[(11200, 2902, 0.00013032712107389547),\n",
              " (11200, 13158, 0.00026065424214779094),\n",
              " (11200, 5830, 0.00026065424214779094)]"
            ]
          },
          "metadata": {},
          "execution_count": 30
        }
      ]
    },
    {
      "cell_type": "markdown",
      "source": [
        "The new PageRank function is similar to the one of the previous section, the main differences are:\n",
        "\n",
        "*   The input edge RDD also contains the weights\n",
        "*   The computed adjacency list includes the respective weight next to each neighbor node\n",
        "*   The contributions of PR to the neighboring nodes are computed by multiplying the PR value with the respective weight\n",
        "\n",
        "The PR values are computed according with the formula:\n",
        "\n",
        "$$\n",
        "PR(V_i) = d \\cdot \\sum_{V_j \\in in-neighbors(V_i)} {PR(V_j)}\\cdot{w_ji} + \\frac{1 - d}{N}\n",
        "$$\n"
      ],
      "metadata": {
        "id": "8qhOgB8oSvho"
      }
    },
    {
      "cell_type": "code",
      "source": [
        "def pageranker_weighted(edges_rdd_weighted_norm, iterations=50, d=0.85, tolerance=1e-6):\n",
        "    print('Initializing variables...')\n",
        "\n",
        "    # Create an adjacency list that includes weights\n",
        "    adjacency_list = edges_rdd_weighted_norm.map(lambda x: (x[0], (x[1], x[2]))) \\\n",
        "                                            .groupByKey() \\\n",
        "                                            .mapValues(list)\n",
        "    # adjacency_list = {v_j: [(v_i, weight_ji), ...], ...}\n",
        "\n",
        "    # initialize variables and first PageRank values\n",
        "    num_nodes = adjacency_list.count()\n",
        "    page_ranks = adjacency_list.mapValues(lambda _: 1 / num_nodes)\n",
        "    distance = tolerance + 1\n",
        "\n",
        "    print('Starting iterations...')\n",
        "    # loop and update the PR values\n",
        "    for i in range(iterations):\n",
        "        if distance < tolerance:\n",
        "            print(f'Converged after {i} iterations')\n",
        "            break\n",
        "\n",
        "        old_page_ranks = page_ranks\n",
        "\n",
        "        # calculate contributions based on the normalized weights\n",
        "        contributions = page_ranks.join(adjacency_list).flatMap(\n",
        "            lambda node_data: [\n",
        "                (neighbor, node_data[1][0] * weight)  # pr(v_j) * weight_ji\n",
        "                for neighbor, weight in node_data[1][1]\n",
        "            ])\n",
        "        # contributions = [(v_i, pr(v_j) * weight_ji), ...]\n",
        "\n",
        "        # Aggregate contributions to get new PR\n",
        "        page_ranks = contributions.reduceByKey(lambda a, b: a + b) \\\n",
        "                                  .mapValues(lambda pr: d * pr + (1 - d) / num_nodes)\n",
        "\n",
        "        # update distance between new and old PageRanks (for convergence check)\n",
        "        distance = euclidean_distance(page_ranks, old_page_ranks)\n",
        "        print(f'Iteration {i + 1} - distance: {distance}')\n",
        "\n",
        "    print('PageRank computations completed!')\n",
        "    return page_ranks.collect()\n"
      ],
      "metadata": {
        "id": "caCCU7VjSu1e"
      },
      "execution_count": 31,
      "outputs": []
    },
    {
      "cell_type": "code",
      "source": [
        "pr_w_values = pageranker_weighted(edges_rdd_weighted_norm, iterations=50, d=0.85, tolerance=1e-6)"
      ],
      "metadata": {
        "colab": {
          "base_uri": "https://localhost:8080/"
        },
        "id": "vwDOmPwYSuy_",
        "outputId": "ad41ee5c-997d-4199-eeb2-77e4185ede51"
      },
      "execution_count": 32,
      "outputs": [
        {
          "output_type": "stream",
          "name": "stdout",
          "text": [
            "Initializing variables...\n",
            "Starting iterations...\n",
            "Iteration 1 - distance: 0.0019406418722611237\n",
            "Iteration 2 - distance: 0.0005552498114770545\n",
            "Iteration 3 - distance: 0.00029520408739376375\n",
            "Iteration 4 - distance: 0.00018599060584001032\n",
            "Iteration 5 - distance: 0.0001281296292299868\n",
            "Iteration 6 - distance: 9.305857698295508e-05\n",
            "Iteration 7 - distance: 6.968906012393878e-05\n",
            "Iteration 8 - distance: 5.3092862455789585e-05\n",
            "Iteration 9 - distance: 4.083548250877893e-05\n",
            "Iteration 10 - distance: 3.1574846811768845e-05\n",
            "Iteration 11 - distance: 2.448854372495648e-05\n",
            "Iteration 12 - distance: 1.902717816564598e-05\n",
            "Iteration 13 - distance: 1.4800907871702226e-05\n",
            "Iteration 14 - distance: 1.1522449105410527e-05\n",
            "Iteration 15 - distance: 8.975338864711466e-06\n",
            "Iteration 16 - distance: 6.994386749207479e-06\n",
            "Iteration 17 - distance: 5.452604117700192e-06\n",
            "Iteration 18 - distance: 4.251946280147671e-06\n",
            "Iteration 19 - distance: 3.316512160142312e-06\n",
            "Iteration 20 - distance: 2.5874391764089973e-06\n",
            "Iteration 21 - distance: 2.019021524644033e-06\n",
            "Iteration 22 - distance: 1.5757362693619964e-06\n",
            "Iteration 23 - distance: 1.2299543342953604e-06\n",
            "Iteration 24 - distance: 9.601733538367067e-07\n",
            "Converged after 24 iterations\n",
            "PageRank computations completed!\n"
          ]
        }
      ]
    },
    {
      "cell_type": "markdown",
      "source": [
        "#### Results"
      ],
      "metadata": {
        "id": "TwZL61Vk0BAo"
      }
    },
    {
      "cell_type": "code",
      "source": [
        "print('Top PageRank paintings (weighted graph): \\n')\n",
        "for (id, pr, author, title, cat_num) in map_pagerank_to_info(pr_w_values, df_id)[:10]:\n",
        "  print(f'{author}: \"{title}\" ---> PR: {pr}')"
      ],
      "metadata": {
        "colab": {
          "base_uri": "https://localhost:8080/"
        },
        "id": "eAc4bHRVWYSB",
        "outputId": "bb09a35e-8b99-4d2c-9329-3bc8e82134c9"
      },
      "execution_count": 33,
      "outputs": [
        {
          "output_type": "stream",
          "name": "stdout",
          "text": [
            "Top PageRank paintings (weighted graph): \n",
            "\n",
            "Nin y Tudó, José: \"Retrato mortuorio del periodista Pedro Avial Taracena\" ---> PR: 0.00014251917294976014\n",
            "Reynolds, Sir Joshua: \"Retrato de James Bourdieu\" ---> PR: 0.0001401209726271636\n",
            "Anónimo (Obra copiada de: Velázquez, Diego Rodríguez de Silva y): \"Francisco de Ocáriz y Ochoa\" ---> PR: 0.00013815075748507255\n",
            "Ribera y Fieve, Carlos Luis de: \"Busto de Rodrigo Calderón\" ---> PR: 0.00013707950609697752\n",
            "Goya y Lucientes, Francisco de: \"Anotación sobre la boda del artista. Referencia a cantidades pecuniarias. Santa Bárbara, contradibujo\" ---> PR: 0.0001359551788610275\n",
            "Goya y Lucientes, Francisco de: \"El sueño de san José o La muerte de san Francisco Javier (estudio preparatorio). Anotación de pago a Tomás Goya. Apuntes de motivos vegetales\" ---> PR: 0.0001359551788610275\n",
            "Goya y Lucientes, Francisco de: \"Virgen con el Niño sentado en su regazo, enmarcada en un óvalo\" ---> PR: 0.0001359551788610275\n",
            "Goya y Lucientes, Francisco de: \"Y no hai remedio\" ---> PR: 0.00013531983189466785\n",
            "Goya y Lucientes, Francisco de: \"Estragos de la guerra\" ---> PR: 0.00013531983189466785\n",
            "Anónimo: \"Proyecto de decoración arquitectónica para un palacio del rey Carlos II de Inglaterra\" ---> PR: 0.00013529751989290552\n"
          ]
        }
      ]
    },
    {
      "cell_type": "markdown",
      "source": [
        "## Discussion\n",
        "Regarding the results of the two PageRank approaches, we can see that the same painting from the artist José Nin y Tudó is ranked at the top for both the algorithms, with a PageRank value slightly smaller in the weighted edges algorithm. However, the other top ranked paintings varied between the weighted and unweighted algorithm, with the exception of “Retrato de James Bourdieu” from Sir Joshua Reynolds, that is ranked second in the weighted edges approach and fourth in the unweighted edges algorithm. It is interesting to notice that 5 of the top paintings ranked by the weighted edges algorithm are from the artist Francisco de Goya y Lucientes, with very small differences in the PageRank values, showing that these works shared highly frequent occurring tags."
      ],
      "metadata": {
        "id": "Cv1YHLON-yXA"
      }
    }
  ]
}